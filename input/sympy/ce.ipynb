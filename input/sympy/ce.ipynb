{
 "cells": [
  {
   "cell_type": "code",
   "execution_count": 3,
   "id": "356f8378",
   "metadata": {},
   "outputs": [
    {
     "name": "stdout",
     "output_type": "stream",
     "text": [
      "\\frac{\\left(\\Delta omegaa \\left(\\Delta + omegaa\\right) \\left(\\Delta - omegai e^{i \\Delta t} + omegai\\right) e^{i omegaa t} + omegai \\left(\\Delta + omegai\\right) \\left(- \\Delta \\left(1 - e^{i omegaa t}\\right) \\left(\\Delta + omegaa\\right) + omegaa \\left(1 - e^{i t \\left(\\Delta + omegaa\\right)}\\right)\\right)\\right) e^{- i omegaa t}}{\\Delta^{2} omegaa omegai \\left(\\Delta + omegaa\\right) \\left(\\Delta + omegai\\right)}\n"
     ]
    }
   ],
   "source": [
    "import sympy as sp\n",
    "from sympy import latex\n",
    "\n",
    "# symbols\n",
    "t, Delta, omegai, omegaa = sp.symbols('t Delta omegai omegaa', real=True)\n",
    "\n",
    "# original long form (one mode)\n",
    "orig = (1/Delta)*(1/omegai - sp.exp(sp.I*Delta*t)/(omegai + Delta)) + \\\n",
    "     (1/Delta)*((1 - sp.exp(-sp.I*omegaa*t))/omegaa \\\n",
    "     - (1/Delta)*(sp.exp(sp.I*Delta*t) - sp.exp(-sp.I*omegaa*t))/(omegaa + Delta))\n",
    "\n",
    "# simplify\n",
    "compact = sp.simplify(sp.together(orig))\n",
    "\n",
    "print(latex(compact))\n"
   ]
  }
 ],
 "metadata": {
  "kernelspec": {
   "display_name": "base",
   "language": "python",
   "name": "python3"
  },
  "language_info": {
   "codemirror_mode": {
    "name": "ipython",
    "version": 3
   },
   "file_extension": ".py",
   "mimetype": "text/x-python",
   "name": "python",
   "nbconvert_exporter": "python",
   "pygments_lexer": "ipython3",
   "version": "3.11.8"
  }
 },
 "nbformat": 4,
 "nbformat_minor": 5
}
