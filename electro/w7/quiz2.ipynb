{
 "cells": [
  {
   "cell_type": "code",
   "execution_count": 6,
   "id": "6372216e",
   "metadata": {},
   "outputs": [
    {
     "name": "stdout",
     "output_type": "stream",
     "text": [
      "Catalyst A: Overpotential at 100 mA/cm^2 = 368.41 mV\n",
      "Catalyst A: Overpotential at 1000 mA/cm^2 = 552.62 mV\n",
      "Catalyst B: Overpotential at 100 mA/cm^2 = 230.26 mV\n",
      "Catalyst B: Overpotential at 1000 mA/cm^2 = 460.52 mV\n",
      "Catalyst B: At 100 mA/cm^2, e_act = 0.90 V, efficiency = 79.62 %\n",
      "Catalyst B: At 1000 mA/cm^2, e_act = 0.67 V, efficiency = 59.25 %\n",
      "Catalyst C: Overpotential at 100 mA/cm^2 = 276.31 mV\n",
      "Catalyst C: Overpotential at 1000 mA/cm^2 = 414.47 mV\n"
     ]
    }
   ],
   "source": [
    "# 1b\n",
    "# write down the formula\n",
    "import math\n",
    "import numpy\n",
    "eeq = 1.13  # V vs RHE\n",
    "def eta(mt, i0, i=100):\n",
    "    return mt*math.log(i/i0)\n",
    "\n",
    "def e_act(n_an, e_eq=1.13):\n",
    "    return e_eq - n_an/1000\n",
    "\n",
    "catalysts = {\n",
    "    'A': {'i0': 1, 'mt': 80},\n",
    "    'B': {'i0': 10, 'mt': 100},\n",
    "    'C': {'i0': 1, 'mt': 60}\n",
    "}\n",
    "for name, data in catalysts.items():\n",
    "    overpotential = eta(data['mt'], data['i0'])\n",
    "    print(f'Catalyst {name}: Overpotential at 100 mA/cm^2 = {overpotential:.2f} mV')\n",
    "    overpotential_1000 = eta(data['mt'], data['i0'], i=1000)\n",
    "    print(f'Catalyst {name}: Overpotential at 1000 mA/cm^2 = {overpotential_1000:.2f} mV')\n",
    "    if name == 'B':\n",
    "        e_act100 = e_act(overpotential)\n",
    "        eff100 = e_act100 / eeq\n",
    "        print(f'Catalyst {name}: At 100 mA/cm^2, e_act = {e_act100:.2f} V, efficiency = {eff100*100:.2f} %')\n",
    "        e_act1000 = e_act(overpotential_1000)\n",
    "        eff1000 = e_act1000 / eeq\n",
    "        print(f'Catalyst {name}: At 1000 mA/cm^2, e_act = {e_act1000:.2f} V, efficiency = {eff1000*100:.2f} %')"
   ]
  }
 ],
 "metadata": {
  "kernelspec": {
   "display_name": "base",
   "language": "python",
   "name": "python3"
  },
  "language_info": {
   "codemirror_mode": {
    "name": "ipython",
    "version": 3
   },
   "file_extension": ".py",
   "mimetype": "text/x-python",
   "name": "python",
   "nbconvert_exporter": "python",
   "pygments_lexer": "ipython3",
   "version": "3.11.8"
  }
 },
 "nbformat": 4,
 "nbformat_minor": 5
}
