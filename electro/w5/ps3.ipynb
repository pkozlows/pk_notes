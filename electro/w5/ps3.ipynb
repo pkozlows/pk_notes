{
 "cells": [
  {
   "cell_type": "code",
   "execution_count": 11,
   "id": "dba01bcd",
   "metadata": {},
   "outputs": [
    {
     "name": "stdout",
     "output_type": "stream",
     "text": [
      "Alpha_a: 0.5, Alpha_c: 0.5, Eta: 0.01 V, Error: 0.63%\n",
      "Alpha_a: 0.5, Alpha_c: 0.5, Eta: 0.02 V, Error: 2.48%\n",
      "Alpha_a: 0.5, Alpha_c: 0.5, Eta: 0.05 V, Error: 14.20%\n",
      "Alpha_a: 0.1, Alpha_c: 0.9, Eta: 0.01 V, Error: -16.11%\n",
      "Alpha_a: 0.1, Alpha_c: 0.9, Eta: 0.02 V, Error: -33.14%\n",
      "Alpha_a: 0.1, Alpha_c: 0.9, Eta: 0.05 V, Error: -86.89%\n",
      "----\n",
      "Alpha_a: 0.5, Alpha_c: 0.5, Eta: -0.05 V, Error: -16.66%\n",
      "Alpha_a: 0.5, Alpha_c: 0.5, Eta: -0.1 V, Error: -2.08%\n",
      "Alpha_a: 0.5, Alpha_c: 0.5, Eta: -0.2 V, Error: -0.04%\n",
      "Alpha_a: 0.1, Alpha_c: 0.9, Eta: -0.05 V, Error: -16.66%\n",
      "Alpha_a: 0.1, Alpha_c: 0.9, Eta: -0.1 V, Error: -2.08%\n",
      "Alpha_a: 0.1, Alpha_c: 0.9, Eta: -0.2 V, Error: -0.04%\n"
     ]
    }
   ],
   "source": [
    "# p2a\n",
    "import numpy as np\n",
    "# we want to compute different values for error\n",
    "# approximation is \\frac{F \\eta}{RT}\n",
    "# exact is \\exp \\left( \\frac{\\alpha_a F \\eta}{RT} \\right) - \\exp \\left( -\\frac{\\alpha_c F \\eta}{RT} \\right) = \n",
    "F = 96485.3329  # C/mol\n",
    "R = 8.3145  # J/(mol*K)\n",
    "T = 298.15  # K\n",
    "transfer = [(0.5, 0.5), (0.1, 0.9)]\n",
    "taylor_eta_values = [0.01, 0.02, 0.05] # V\n",
    "for alpha_a, alpha_c in transfer:\n",
    "     for eta in taylor_eta_values:\n",
    "          approximation = (F * eta) / (R * T)\n",
    "          exact = np.exp((alpha_a * F * eta) / (R * T)) - np.exp((-alpha_c * F * eta) / (R * T))\n",
    "          error = (exact - approximation) / exact * 100\n",
    "          print(f\"Alpha_a: {alpha_a}, Alpha_c: {alpha_c}, Eta: {eta} V, Error: {error:.2f}%\")\n",
    "print(\"----\")\n",
    "# p2b\n",
    "tafel_eta_values = [0.05, 0.1, 0.2] # V\n",
    "tafel_eta_values = [-x for x in tafel_eta_values]  # Correct way\n",
    "for alpha_a, alpha_c in transfer:\n",
    "     for eta in tafel_eta_values:\n",
    "          approximation = -np.exp(-(alpha_c * F * eta) / (R * T))\n",
    "          exact = np.exp((alpha_a * F * eta) / (R * T)) - np.exp((-alpha_c * F * eta) / (R * T))\n",
    "          error = (exact - approximation) / exact * 100\n",
    "          print(f\"Alpha_a: {alpha_a}, Alpha_c: {alpha_c}, Eta: {eta} V, Error: {error:.2f}%\")"
   ]
  },
  {
   "cell_type": "code",
   "execution_count": null,
   "id": "50bf8f0c",
   "metadata": {},
   "outputs": [
    {
     "name": "stdout",
     "output_type": "stream",
     "text": [
      "19.1436924631525/(96485*n + 48242.5*q)\n",
      "0.0591265000157479\n"
     ]
    }
   ],
   "source": [
    "#p1h --- IGNORE ----\n",
    "import sympy as sp\n",
    "# I want to evaluate \\frac{RT \\ln 10}{(n+\\beta q) F} for beta = 1/2\n",
    "n, q = sp.symbols('n q')\n",
    "beta = 1/2\n",
    "R = 8.314  # J/(mol*K)\n",
    "T = 298    # K\n",
    "F = 96485  # C/mol\n",
    "expr = (R * sp.ln(10)) / ((n + beta * q) * F)\n",
    "print(expr.simplify())\n",
    "exp2 = R*T*sp.ln(10)/F\n",
    "print(exp2.simplify())"
   ]
  }
 ],
 "metadata": {
  "kernelspec": {
   "display_name": "base",
   "language": "python",
   "name": "python3"
  },
  "language_info": {
   "codemirror_mode": {
    "name": "ipython",
    "version": 3
   },
   "file_extension": ".py",
   "mimetype": "text/x-python",
   "name": "python",
   "nbconvert_exporter": "python",
   "pygments_lexer": "ipython3",
   "version": "3.11.8"
  }
 },
 "nbformat": 4,
 "nbformat_minor": 5
}
